{
 "cells": [
  {
   "cell_type": "markdown",
   "metadata": {},
   "source": [
    "## Data Preparation and Exploration.\n",
    "\n",
    "This notebook is focused on preparing, cleaning and exploring a dataset that as been gathered at two solar power plants in India over a 34 day period\n",
    "\n",
    "The goal is to apply this dataset to machine learning models to predict solar power plant output.\n",
    "\n",
    "\n",
    "Points to look out for in a clean data:\n",
    "* Making sure the data is presented in a way that makes sense with all the variables correct.\n",
    "* Ensure that the variables make sense and are correct.\n",
    "* Eliminating duplicate rows and columns as well as elimiating columns that provide redundant information.\n",
    "* Dealing with missing data appropriately."
   ]
  },
  {
   "cell_type": "code",
   "execution_count": 1,
   "metadata": {},
   "outputs": [],
   "source": [
    "import seaborn as sns\n",
    "import numpy as np\n",
    "import matplotlib.pyplot as plt\n",
    "import pandas as pd\n",
    "import math\n",
    "\n",
    "import warnings\n",
    "warnings.filterwarnings(\"ignore\")\n"
   ]
  },
  {
   "cell_type": "markdown",
   "metadata": {},
   "source": [
    "### Preliminary Analysis\n",
    "The power generation datasets are gathered at the inverter level - each inverter has multiple lines of solar panels attached to it. The sensor data is gathered at a plant level - single array of sensors optimally placed at the plant."
   ]
  },
  {
   "cell_type": "code",
   "execution_count": 2,
   "metadata": {},
   "outputs": [],
   "source": [
    "### Reading in the data\n",
    "generation_dataset = pd.read_csv('Plant_1_Generation_Data.csv')\n",
    "weather_dataset = pd.read_csv('Plant_1_Weather_Sensor_Data.csv')"
   ]
  },
  {
   "cell_type": "code",
   "execution_count": 3,
   "metadata": {},
   "outputs": [
    {
     "data": {
      "text/html": [
       "<div>\n",
       "<style scoped>\n",
       "    .dataframe tbody tr th:only-of-type {\n",
       "        vertical-align: middle;\n",
       "    }\n",
       "\n",
       "    .dataframe tbody tr th {\n",
       "        vertical-align: top;\n",
       "    }\n",
       "\n",
       "    .dataframe thead th {\n",
       "        text-align: right;\n",
       "    }\n",
       "</style>\n",
       "<table border=\"1\" class=\"dataframe\">\n",
       "  <thead>\n",
       "    <tr style=\"text-align: right;\">\n",
       "      <th></th>\n",
       "      <th>DATE_TIME</th>\n",
       "      <th>PLANT_ID</th>\n",
       "      <th>SOURCE_KEY</th>\n",
       "      <th>DC_POWER</th>\n",
       "      <th>AC_POWER</th>\n",
       "      <th>DAILY_YIELD</th>\n",
       "      <th>TOTAL_YIELD</th>\n",
       "    </tr>\n",
       "  </thead>\n",
       "  <tbody>\n",
       "    <tr>\n",
       "      <th>0</th>\n",
       "      <td>15-05-2020 00:00</td>\n",
       "      <td>4135001</td>\n",
       "      <td>1BY6WEcLGh8j5v7</td>\n",
       "      <td>0.0</td>\n",
       "      <td>0.0</td>\n",
       "      <td>0.0</td>\n",
       "      <td>6259559.0</td>\n",
       "    </tr>\n",
       "    <tr>\n",
       "      <th>1</th>\n",
       "      <td>15-05-2020 00:00</td>\n",
       "      <td>4135001</td>\n",
       "      <td>1IF53ai7Xc0U56Y</td>\n",
       "      <td>0.0</td>\n",
       "      <td>0.0</td>\n",
       "      <td>0.0</td>\n",
       "      <td>6183645.0</td>\n",
       "    </tr>\n",
       "    <tr>\n",
       "      <th>2</th>\n",
       "      <td>15-05-2020 00:00</td>\n",
       "      <td>4135001</td>\n",
       "      <td>3PZuoBAID5Wc2HD</td>\n",
       "      <td>0.0</td>\n",
       "      <td>0.0</td>\n",
       "      <td>0.0</td>\n",
       "      <td>6987759.0</td>\n",
       "    </tr>\n",
       "    <tr>\n",
       "      <th>3</th>\n",
       "      <td>15-05-2020 00:00</td>\n",
       "      <td>4135001</td>\n",
       "      <td>7JYdWkrLSPkdwr4</td>\n",
       "      <td>0.0</td>\n",
       "      <td>0.0</td>\n",
       "      <td>0.0</td>\n",
       "      <td>7602960.0</td>\n",
       "    </tr>\n",
       "    <tr>\n",
       "      <th>4</th>\n",
       "      <td>15-05-2020 00:00</td>\n",
       "      <td>4135001</td>\n",
       "      <td>McdE0feGgRqW7Ca</td>\n",
       "      <td>0.0</td>\n",
       "      <td>0.0</td>\n",
       "      <td>0.0</td>\n",
       "      <td>7158964.0</td>\n",
       "    </tr>\n",
       "    <tr>\n",
       "      <th>5</th>\n",
       "      <td>15-05-2020 00:00</td>\n",
       "      <td>4135001</td>\n",
       "      <td>VHMLBKoKgIrUVDU</td>\n",
       "      <td>0.0</td>\n",
       "      <td>0.0</td>\n",
       "      <td>0.0</td>\n",
       "      <td>7206408.0</td>\n",
       "    </tr>\n",
       "    <tr>\n",
       "      <th>6</th>\n",
       "      <td>15-05-2020 00:00</td>\n",
       "      <td>4135001</td>\n",
       "      <td>WRmjgnKYAwPKWDb</td>\n",
       "      <td>0.0</td>\n",
       "      <td>0.0</td>\n",
       "      <td>0.0</td>\n",
       "      <td>7028673.0</td>\n",
       "    </tr>\n",
       "    <tr>\n",
       "      <th>7</th>\n",
       "      <td>15-05-2020 00:00</td>\n",
       "      <td>4135001</td>\n",
       "      <td>ZnxXDlPa8U1GXgE</td>\n",
       "      <td>0.0</td>\n",
       "      <td>0.0</td>\n",
       "      <td>0.0</td>\n",
       "      <td>6522172.0</td>\n",
       "    </tr>\n",
       "    <tr>\n",
       "      <th>8</th>\n",
       "      <td>15-05-2020 00:00</td>\n",
       "      <td>4135001</td>\n",
       "      <td>ZoEaEvLYb1n2sOq</td>\n",
       "      <td>0.0</td>\n",
       "      <td>0.0</td>\n",
       "      <td>0.0</td>\n",
       "      <td>7098099.0</td>\n",
       "    </tr>\n",
       "    <tr>\n",
       "      <th>9</th>\n",
       "      <td>15-05-2020 00:00</td>\n",
       "      <td>4135001</td>\n",
       "      <td>adLQvlD726eNBSB</td>\n",
       "      <td>0.0</td>\n",
       "      <td>0.0</td>\n",
       "      <td>0.0</td>\n",
       "      <td>6271355.0</td>\n",
       "    </tr>\n",
       "  </tbody>\n",
       "</table>\n",
       "</div>"
      ],
      "text/plain": [
       "          DATE_TIME  PLANT_ID       SOURCE_KEY  DC_POWER  AC_POWER  \\\n",
       "0  15-05-2020 00:00   4135001  1BY6WEcLGh8j5v7       0.0       0.0   \n",
       "1  15-05-2020 00:00   4135001  1IF53ai7Xc0U56Y       0.0       0.0   \n",
       "2  15-05-2020 00:00   4135001  3PZuoBAID5Wc2HD       0.0       0.0   \n",
       "3  15-05-2020 00:00   4135001  7JYdWkrLSPkdwr4       0.0       0.0   \n",
       "4  15-05-2020 00:00   4135001  McdE0feGgRqW7Ca       0.0       0.0   \n",
       "5  15-05-2020 00:00   4135001  VHMLBKoKgIrUVDU       0.0       0.0   \n",
       "6  15-05-2020 00:00   4135001  WRmjgnKYAwPKWDb       0.0       0.0   \n",
       "7  15-05-2020 00:00   4135001  ZnxXDlPa8U1GXgE       0.0       0.0   \n",
       "8  15-05-2020 00:00   4135001  ZoEaEvLYb1n2sOq       0.0       0.0   \n",
       "9  15-05-2020 00:00   4135001  adLQvlD726eNBSB       0.0       0.0   \n",
       "\n",
       "   DAILY_YIELD  TOTAL_YIELD  \n",
       "0          0.0    6259559.0  \n",
       "1          0.0    6183645.0  \n",
       "2          0.0    6987759.0  \n",
       "3          0.0    7602960.0  \n",
       "4          0.0    7158964.0  \n",
       "5          0.0    7206408.0  \n",
       "6          0.0    7028673.0  \n",
       "7          0.0    6522172.0  \n",
       "8          0.0    7098099.0  \n",
       "9          0.0    6271355.0  "
      ]
     },
     "execution_count": 3,
     "metadata": {},
     "output_type": "execute_result"
    }
   ],
   "source": [
    "generation_dataset.head(10)"
   ]
  },
  {
   "cell_type": "code",
   "execution_count": 4,
   "metadata": {},
   "outputs": [
    {
     "data": {
      "text/plain": [
       "(68778, 7)"
      ]
     },
     "execution_count": 4,
     "metadata": {},
     "output_type": "execute_result"
    }
   ],
   "source": [
    "generation_dataset.shape"
   ]
  },
  {
   "cell_type": "markdown",
   "metadata": {},
   "source": [
    "Generation dataset contains 68778 rows and 7 columns"
   ]
  },
  {
   "cell_type": "code",
   "execution_count": 5,
   "metadata": {},
   "outputs": [
    {
     "data": {
      "text/html": [
       "<div>\n",
       "<style scoped>\n",
       "    .dataframe tbody tr th:only-of-type {\n",
       "        vertical-align: middle;\n",
       "    }\n",
       "\n",
       "    .dataframe tbody tr th {\n",
       "        vertical-align: top;\n",
       "    }\n",
       "\n",
       "    .dataframe thead th {\n",
       "        text-align: right;\n",
       "    }\n",
       "</style>\n",
       "<table border=\"1\" class=\"dataframe\">\n",
       "  <thead>\n",
       "    <tr style=\"text-align: right;\">\n",
       "      <th></th>\n",
       "      <th>DATE_TIME</th>\n",
       "      <th>PLANT_ID</th>\n",
       "      <th>SOURCE_KEY</th>\n",
       "      <th>AMBIENT_TEMPERATURE</th>\n",
       "      <th>MODULE_TEMPERATURE</th>\n",
       "      <th>IRRADIATION</th>\n",
       "    </tr>\n",
       "  </thead>\n",
       "  <tbody>\n",
       "    <tr>\n",
       "      <th>0</th>\n",
       "      <td>2020-05-15 00:00:00</td>\n",
       "      <td>4135001</td>\n",
       "      <td>HmiyD2TTLFNqkNe</td>\n",
       "      <td>25.184316</td>\n",
       "      <td>22.857507</td>\n",
       "      <td>0.0</td>\n",
       "    </tr>\n",
       "    <tr>\n",
       "      <th>1</th>\n",
       "      <td>2020-05-15 00:15:00</td>\n",
       "      <td>4135001</td>\n",
       "      <td>HmiyD2TTLFNqkNe</td>\n",
       "      <td>25.084589</td>\n",
       "      <td>22.761668</td>\n",
       "      <td>0.0</td>\n",
       "    </tr>\n",
       "    <tr>\n",
       "      <th>2</th>\n",
       "      <td>2020-05-15 00:30:00</td>\n",
       "      <td>4135001</td>\n",
       "      <td>HmiyD2TTLFNqkNe</td>\n",
       "      <td>24.935753</td>\n",
       "      <td>22.592306</td>\n",
       "      <td>0.0</td>\n",
       "    </tr>\n",
       "    <tr>\n",
       "      <th>3</th>\n",
       "      <td>2020-05-15 00:45:00</td>\n",
       "      <td>4135001</td>\n",
       "      <td>HmiyD2TTLFNqkNe</td>\n",
       "      <td>24.846130</td>\n",
       "      <td>22.360852</td>\n",
       "      <td>0.0</td>\n",
       "    </tr>\n",
       "    <tr>\n",
       "      <th>4</th>\n",
       "      <td>2020-05-15 01:00:00</td>\n",
       "      <td>4135001</td>\n",
       "      <td>HmiyD2TTLFNqkNe</td>\n",
       "      <td>24.621525</td>\n",
       "      <td>22.165423</td>\n",
       "      <td>0.0</td>\n",
       "    </tr>\n",
       "    <tr>\n",
       "      <th>5</th>\n",
       "      <td>2020-05-15 01:15:00</td>\n",
       "      <td>4135001</td>\n",
       "      <td>HmiyD2TTLFNqkNe</td>\n",
       "      <td>24.536092</td>\n",
       "      <td>21.968571</td>\n",
       "      <td>0.0</td>\n",
       "    </tr>\n",
       "    <tr>\n",
       "      <th>6</th>\n",
       "      <td>2020-05-15 01:30:00</td>\n",
       "      <td>4135001</td>\n",
       "      <td>HmiyD2TTLFNqkNe</td>\n",
       "      <td>24.638674</td>\n",
       "      <td>22.352926</td>\n",
       "      <td>0.0</td>\n",
       "    </tr>\n",
       "    <tr>\n",
       "      <th>7</th>\n",
       "      <td>2020-05-15 01:45:00</td>\n",
       "      <td>4135001</td>\n",
       "      <td>HmiyD2TTLFNqkNe</td>\n",
       "      <td>24.873022</td>\n",
       "      <td>23.160919</td>\n",
       "      <td>0.0</td>\n",
       "    </tr>\n",
       "    <tr>\n",
       "      <th>8</th>\n",
       "      <td>2020-05-15 02:00:00</td>\n",
       "      <td>4135001</td>\n",
       "      <td>HmiyD2TTLFNqkNe</td>\n",
       "      <td>24.936930</td>\n",
       "      <td>23.026113</td>\n",
       "      <td>0.0</td>\n",
       "    </tr>\n",
       "    <tr>\n",
       "      <th>9</th>\n",
       "      <td>2020-05-15 02:15:00</td>\n",
       "      <td>4135001</td>\n",
       "      <td>HmiyD2TTLFNqkNe</td>\n",
       "      <td>25.012248</td>\n",
       "      <td>23.343229</td>\n",
       "      <td>0.0</td>\n",
       "    </tr>\n",
       "  </tbody>\n",
       "</table>\n",
       "</div>"
      ],
      "text/plain": [
       "             DATE_TIME  PLANT_ID       SOURCE_KEY  AMBIENT_TEMPERATURE  \\\n",
       "0  2020-05-15 00:00:00   4135001  HmiyD2TTLFNqkNe            25.184316   \n",
       "1  2020-05-15 00:15:00   4135001  HmiyD2TTLFNqkNe            25.084589   \n",
       "2  2020-05-15 00:30:00   4135001  HmiyD2TTLFNqkNe            24.935753   \n",
       "3  2020-05-15 00:45:00   4135001  HmiyD2TTLFNqkNe            24.846130   \n",
       "4  2020-05-15 01:00:00   4135001  HmiyD2TTLFNqkNe            24.621525   \n",
       "5  2020-05-15 01:15:00   4135001  HmiyD2TTLFNqkNe            24.536092   \n",
       "6  2020-05-15 01:30:00   4135001  HmiyD2TTLFNqkNe            24.638674   \n",
       "7  2020-05-15 01:45:00   4135001  HmiyD2TTLFNqkNe            24.873022   \n",
       "8  2020-05-15 02:00:00   4135001  HmiyD2TTLFNqkNe            24.936930   \n",
       "9  2020-05-15 02:15:00   4135001  HmiyD2TTLFNqkNe            25.012248   \n",
       "\n",
       "   MODULE_TEMPERATURE  IRRADIATION  \n",
       "0           22.857507          0.0  \n",
       "1           22.761668          0.0  \n",
       "2           22.592306          0.0  \n",
       "3           22.360852          0.0  \n",
       "4           22.165423          0.0  \n",
       "5           21.968571          0.0  \n",
       "6           22.352926          0.0  \n",
       "7           23.160919          0.0  \n",
       "8           23.026113          0.0  \n",
       "9           23.343229          0.0  "
      ]
     },
     "execution_count": 5,
     "metadata": {},
     "output_type": "execute_result"
    }
   ],
   "source": [
    "weather_dataset.head(10)"
   ]
  },
  {
   "cell_type": "code",
   "execution_count": 6,
   "metadata": {},
   "outputs": [
    {
     "data": {
      "text/plain": [
       "(3182, 6)"
      ]
     },
     "execution_count": 6,
     "metadata": {},
     "output_type": "execute_result"
    }
   ],
   "source": [
    "weather_dataset.shape"
   ]
  },
  {
   "cell_type": "markdown",
   "metadata": {},
   "source": [
    "Weather dataset contains 3259 rows and 6 columns"
   ]
  },
  {
   "cell_type": "markdown",
   "metadata": {},
   "source": [
    "Formatting DATE_TIME columns and merging the two dataframes."
   ]
  },
  {
   "cell_type": "code",
   "execution_count": 7,
   "metadata": {},
   "outputs": [],
   "source": [
    "generation_dataset['DATE_TIME'] = pd.to_datetime(generation_dataset['DATE_TIME'])\n",
    "weather_dataset['DATE_TIME'] = pd.to_datetime(weather_dataset['DATE_TIME'])"
   ]
  },
  {
   "cell_type": "code",
   "execution_count": 8,
   "metadata": {},
   "outputs": [],
   "source": [
    "df_solar_data = pd.merge(generation_dataset.drop(columns = ['PLANT_ID']), weather_dataset.drop(columns = ['PLANT_ID', 'SOURCE_KEY']), on='DATE_TIME')\n",
    "\n"
   ]
  },
  {
   "cell_type": "code",
   "execution_count": 9,
   "metadata": {},
   "outputs": [
    {
     "name": "stdout",
     "output_type": "stream",
     "text": [
      "<class 'pandas.core.frame.DataFrame'>\n",
      "Int64Index: 45680 entries, 0 to 45679\n",
      "Data columns (total 9 columns):\n",
      " #   Column               Non-Null Count  Dtype         \n",
      "---  ------               --------------  -----         \n",
      " 0   DATE_TIME            45680 non-null  datetime64[ns]\n",
      " 1   SOURCE_KEY           45680 non-null  object        \n",
      " 2   DC_POWER             45680 non-null  float64       \n",
      " 3   AC_POWER             45680 non-null  float64       \n",
      " 4   DAILY_YIELD          45680 non-null  float64       \n",
      " 5   TOTAL_YIELD          45680 non-null  float64       \n",
      " 6   AMBIENT_TEMPERATURE  45680 non-null  float64       \n",
      " 7   MODULE_TEMPERATURE   45680 non-null  float64       \n",
      " 8   IRRADIATION          45680 non-null  float64       \n",
      "dtypes: datetime64[ns](1), float64(7), object(1)\n",
      "memory usage: 3.5+ MB\n"
     ]
    }
   ],
   "source": [
    "df_solar_data.info()"
   ]
  },
  {
   "cell_type": "markdown",
   "metadata": {},
   "source": [
    "Extract separate date-related components\n"
   ]
  },
  {
   "cell_type": "code",
   "execution_count": 10,
   "metadata": {},
   "outputs": [],
   "source": [
    "df_solar_data['TIME_IN_SECONDS'] = df_solar_data['DATE_TIME'].dt.hour * 3600 + df_solar_data['DATE_TIME'].dt.minute * 60 + df_solar_data['DATE_TIME'].dt.second\n",
    "df_solar_data['WEEK'] = df_solar_data['DATE_TIME'].dt.isocalendar().week\n",
    "df_solar_data['MONTH'] = df_solar_data['DATE_TIME'].dt.month\n",
    "df_solar_data['DAY'] = df_solar_data['DATE_TIME'].dt.day"
   ]
  },
  {
   "cell_type": "code",
   "execution_count": 11,
   "metadata": {},
   "outputs": [],
   "source": [
    "df_solar_data.drop(columns=['DATE_TIME'], inplace=True)"
   ]
  },
  {
   "cell_type": "code",
   "execution_count": 12,
   "metadata": {},
   "outputs": [
    {
     "data": {
      "text/html": [
       "<div>\n",
       "<style scoped>\n",
       "    .dataframe tbody tr th:only-of-type {\n",
       "        vertical-align: middle;\n",
       "    }\n",
       "\n",
       "    .dataframe tbody tr th {\n",
       "        vertical-align: top;\n",
       "    }\n",
       "\n",
       "    .dataframe thead th {\n",
       "        text-align: right;\n",
       "    }\n",
       "</style>\n",
       "<table border=\"1\" class=\"dataframe\">\n",
       "  <thead>\n",
       "    <tr style=\"text-align: right;\">\n",
       "      <th></th>\n",
       "      <th>SOURCE_KEY</th>\n",
       "      <th>DC_POWER</th>\n",
       "      <th>AC_POWER</th>\n",
       "      <th>DAILY_YIELD</th>\n",
       "      <th>TOTAL_YIELD</th>\n",
       "      <th>AMBIENT_TEMPERATURE</th>\n",
       "      <th>MODULE_TEMPERATURE</th>\n",
       "      <th>IRRADIATION</th>\n",
       "      <th>TIME_IN_SECONDS</th>\n",
       "      <th>WEEK</th>\n",
       "      <th>MONTH</th>\n",
       "      <th>DAY</th>\n",
       "    </tr>\n",
       "  </thead>\n",
       "  <tbody>\n",
       "    <tr>\n",
       "      <th>5907</th>\n",
       "      <td>uHbuxQJl8lW7ozc</td>\n",
       "      <td>0.000</td>\n",
       "      <td>0.0000</td>\n",
       "      <td>7454.000</td>\n",
       "      <td>7058793.000</td>\n",
       "      <td>21.315892</td>\n",
       "      <td>20.690883</td>\n",
       "      <td>0.000000</td>\n",
       "      <td>81900</td>\n",
       "      <td>20</td>\n",
       "      <td>5</td>\n",
       "      <td>17</td>\n",
       "    </tr>\n",
       "    <tr>\n",
       "      <th>38635</th>\n",
       "      <td>uHbuxQJl8lW7ozc</td>\n",
       "      <td>10205.000</td>\n",
       "      <td>996.7125</td>\n",
       "      <td>6369.625</td>\n",
       "      <td>7266900.625</td>\n",
       "      <td>27.408714</td>\n",
       "      <td>47.941766</td>\n",
       "      <td>0.709480</td>\n",
       "      <td>54900</td>\n",
       "      <td>24</td>\n",
       "      <td>6</td>\n",
       "      <td>14</td>\n",
       "    </tr>\n",
       "    <tr>\n",
       "      <th>32711</th>\n",
       "      <td>bvBOhCH3iADSZry</td>\n",
       "      <td>0.000</td>\n",
       "      <td>0.0000</td>\n",
       "      <td>5586.000</td>\n",
       "      <td>6433267.000</td>\n",
       "      <td>25.760655</td>\n",
       "      <td>23.739868</td>\n",
       "      <td>0.000000</td>\n",
       "      <td>69300</td>\n",
       "      <td>22</td>\n",
       "      <td>5</td>\n",
       "      <td>31</td>\n",
       "    </tr>\n",
       "    <tr>\n",
       "      <th>1112</th>\n",
       "      <td>adLQvlD726eNBSB</td>\n",
       "      <td>9249.500</td>\n",
       "      <td>904.3125</td>\n",
       "      <td>3411.625</td>\n",
       "      <td>6274766.625</td>\n",
       "      <td>32.391420</td>\n",
       "      <td>50.631240</td>\n",
       "      <td>0.761243</td>\n",
       "      <td>45900</td>\n",
       "      <td>20</td>\n",
       "      <td>5</td>\n",
       "      <td>15</td>\n",
       "    </tr>\n",
       "    <tr>\n",
       "      <th>14012</th>\n",
       "      <td>iCRJl6heRkivqQ3</td>\n",
       "      <td>5124.125</td>\n",
       "      <td>502.4750</td>\n",
       "      <td>1281.875</td>\n",
       "      <td>7228723.875</td>\n",
       "      <td>27.166537</td>\n",
       "      <td>39.336534</td>\n",
       "      <td>0.375922</td>\n",
       "      <td>35100</td>\n",
       "      <td>21</td>\n",
       "      <td>5</td>\n",
       "      <td>22</td>\n",
       "    </tr>\n",
       "  </tbody>\n",
       "</table>\n",
       "</div>"
      ],
      "text/plain": [
       "            SOURCE_KEY   DC_POWER  AC_POWER  DAILY_YIELD  TOTAL_YIELD  \\\n",
       "5907   uHbuxQJl8lW7ozc      0.000    0.0000     7454.000  7058793.000   \n",
       "38635  uHbuxQJl8lW7ozc  10205.000  996.7125     6369.625  7266900.625   \n",
       "32711  bvBOhCH3iADSZry      0.000    0.0000     5586.000  6433267.000   \n",
       "1112   adLQvlD726eNBSB   9249.500  904.3125     3411.625  6274766.625   \n",
       "14012  iCRJl6heRkivqQ3   5124.125  502.4750     1281.875  7228723.875   \n",
       "\n",
       "       AMBIENT_TEMPERATURE  MODULE_TEMPERATURE  IRRADIATION  TIME_IN_SECONDS  \\\n",
       "5907             21.315892           20.690883     0.000000            81900   \n",
       "38635            27.408714           47.941766     0.709480            54900   \n",
       "32711            25.760655           23.739868     0.000000            69300   \n",
       "1112             32.391420           50.631240     0.761243            45900   \n",
       "14012            27.166537           39.336534     0.375922            35100   \n",
       "\n",
       "       WEEK  MONTH  DAY  \n",
       "5907     20      5   17  \n",
       "38635    24      6   14  \n",
       "32711    22      5   31  \n",
       "1112     20      5   15  \n",
       "14012    21      5   22  "
      ]
     },
     "execution_count": 12,
     "metadata": {},
     "output_type": "execute_result"
    }
   ],
   "source": [
    "df_solar_data.sample(5)"
   ]
  },
  {
   "cell_type": "code",
   "execution_count": 13,
   "metadata": {},
   "outputs": [
    {
     "name": "stdout",
     "output_type": "stream",
     "text": [
      "<class 'pandas.core.frame.DataFrame'>\n",
      "Int64Index: 45680 entries, 0 to 45679\n",
      "Data columns (total 12 columns):\n",
      " #   Column               Non-Null Count  Dtype  \n",
      "---  ------               --------------  -----  \n",
      " 0   SOURCE_KEY           45680 non-null  object \n",
      " 1   DC_POWER             45680 non-null  float64\n",
      " 2   AC_POWER             45680 non-null  float64\n",
      " 3   DAILY_YIELD          45680 non-null  float64\n",
      " 4   TOTAL_YIELD          45680 non-null  float64\n",
      " 5   AMBIENT_TEMPERATURE  45680 non-null  float64\n",
      " 6   MODULE_TEMPERATURE   45680 non-null  float64\n",
      " 7   IRRADIATION          45680 non-null  float64\n",
      " 8   TIME_IN_SECONDS      45680 non-null  int64  \n",
      " 9   WEEK                 45680 non-null  UInt32 \n",
      " 10  MONTH                45680 non-null  int64  \n",
      " 11  DAY                  45680 non-null  int64  \n",
      "dtypes: UInt32(1), float64(7), int64(3), object(1)\n",
      "memory usage: 4.4+ MB\n"
     ]
    }
   ],
   "source": [
    "# A summary of each column, the datatypes and the number of non-null values \n",
    "\n",
    "df_solar_data.info()"
   ]
  },
  {
   "cell_type": "markdown",
   "metadata": {},
   "source": [
    "Convert 'SOURCE_KEY' to numerical type"
   ]
  },
  {
   "cell_type": "code",
   "execution_count": 14,
   "metadata": {},
   "outputs": [],
   "source": [
    "from sklearn.preprocessing import *\n",
    "\n",
    "encoder = LabelEncoder()\n",
    "\n",
    "df_solar_data['SOURCE_KEY_NUMBER'] = encoder.fit_transform(df_solar_data['SOURCE_KEY'])\n",
    "\n",
    "df_solar_data.drop(columns=['SOURCE_KEY'], inplace=True)\n"
   ]
  },
  {
   "cell_type": "code",
   "execution_count": 15,
   "metadata": {},
   "outputs": [
    {
     "data": {
      "text/html": [
       "<style  type=\"text/css\" >\n",
       "#T_e0ff8_row0_col0,#T_e0ff8_row0_col1{\n",
       "            background-color:  #1b69af;\n",
       "            color:  #f1f1f1;\n",
       "        }#T_e0ff8_row0_col2{\n",
       "            background-color:  #cddff1;\n",
       "            color:  #000000;\n",
       "        }#T_e0ff8_row0_col3,#T_e0ff8_row8_col7{\n",
       "            background-color:  #529dcc;\n",
       "            color:  #000000;\n",
       "        }#T_e0ff8_row0_col4{\n",
       "            background-color:  #72b2d8;\n",
       "            color:  #000000;\n",
       "        }#T_e0ff8_row0_col5{\n",
       "            background-color:  #3e8ec4;\n",
       "            color:  #000000;\n",
       "        }#T_e0ff8_row0_col6{\n",
       "            background-color:  #1a68ae;\n",
       "            color:  #f1f1f1;\n",
       "        }#T_e0ff8_row0_col7{\n",
       "            background-color:  #69add5;\n",
       "            color:  #000000;\n",
       "        }#T_e0ff8_row0_col8,#T_e0ff8_row6_col8,#T_e0ff8_row8_col8,#T_e0ff8_row9_col8{\n",
       "            background-color:  #d0e1f2;\n",
       "            color:  #000000;\n",
       "        }#T_e0ff8_row0_col9,#T_e0ff8_row1_col0,#T_e0ff8_row1_col1,#T_e0ff8_row1_col2,#T_e0ff8_row1_col4,#T_e0ff8_row1_col5,#T_e0ff8_row1_col6,#T_e0ff8_row1_col7,#T_e0ff8_row1_col9,#T_e0ff8_row2_col3,#T_e0ff8_row2_col8,#T_e0ff8_row2_col9,#T_e0ff8_row3_col0,#T_e0ff8_row3_col1,#T_e0ff8_row3_col6,#T_e0ff8_row3_col9,#T_e0ff8_row4_col10,#T_e0ff8_row5_col0,#T_e0ff8_row5_col1,#T_e0ff8_row5_col6,#T_e0ff8_row5_col11,#T_e0ff8_row6_col9,#T_e0ff8_row7_col9,#T_e0ff8_row7_col11,#T_e0ff8_row8_col9,#T_e0ff8_row9_col9{\n",
       "            background-color:  #f7fbff;\n",
       "            color:  #000000;\n",
       "        }#T_e0ff8_row0_col10,#T_e0ff8_row8_col10{\n",
       "            background-color:  #99c7e0;\n",
       "            color:  #000000;\n",
       "        }#T_e0ff8_row0_col11{\n",
       "            background-color:  #6aaed6;\n",
       "            color:  #000000;\n",
       "        }#T_e0ff8_row1_col3{\n",
       "            background-color:  #eaf2fb;\n",
       "            color:  #000000;\n",
       "        }#T_e0ff8_row1_col8,#T_e0ff8_row3_col8,#T_e0ff8_row7_col8{\n",
       "            background-color:  #94c4df;\n",
       "            color:  #000000;\n",
       "        }#T_e0ff8_row1_col10,#T_e0ff8_row3_col2,#T_e0ff8_row3_col7,#T_e0ff8_row4_col0,#T_e0ff8_row4_col1,#T_e0ff8_row4_col6,#T_e0ff8_row4_col9,#T_e0ff8_row5_col3,#T_e0ff8_row5_col8,#T_e0ff8_row5_col9,#T_e0ff8_row6_col4,#T_e0ff8_row7_col5,#T_e0ff8_row8_col11{\n",
       "            background-color:  #08306b;\n",
       "            color:  #f1f1f1;\n",
       "        }#T_e0ff8_row1_col11,#T_e0ff8_row2_col11,#T_e0ff8_row7_col10{\n",
       "            background-color:  #083e81;\n",
       "            color:  #f1f1f1;\n",
       "        }#T_e0ff8_row2_col0{\n",
       "            background-color:  #7fb9da;\n",
       "            color:  #000000;\n",
       "        }#T_e0ff8_row2_col1{\n",
       "            background-color:  #7db8da;\n",
       "            color:  #000000;\n",
       "        }#T_e0ff8_row2_col2{\n",
       "            background-color:  #deebf7;\n",
       "            color:  #000000;\n",
       "        }#T_e0ff8_row2_col4{\n",
       "            background-color:  #77b5d9;\n",
       "            color:  #000000;\n",
       "        }#T_e0ff8_row2_col5{\n",
       "            background-color:  #57a0ce;\n",
       "            color:  #000000;\n",
       "        }#T_e0ff8_row2_col6{\n",
       "            background-color:  #7ab6d9;\n",
       "            color:  #000000;\n",
       "        }#T_e0ff8_row2_col7{\n",
       "            background-color:  #79b5d9;\n",
       "            color:  #000000;\n",
       "        }#T_e0ff8_row2_col10,#T_e0ff8_row3_col11,#T_e0ff8_row6_col11{\n",
       "            background-color:  #ccdff1;\n",
       "            color:  #000000;\n",
       "        }#T_e0ff8_row3_col3,#T_e0ff8_row6_col10{\n",
       "            background-color:  #4695c8;\n",
       "            color:  #000000;\n",
       "        }#T_e0ff8_row3_col4{\n",
       "            background-color:  #a8cee4;\n",
       "            color:  #000000;\n",
       "        }#T_e0ff8_row3_col5{\n",
       "            background-color:  #ebf3fb;\n",
       "            color:  #000000;\n",
       "        }#T_e0ff8_row3_col10{\n",
       "            background-color:  #3787c0;\n",
       "            color:  #000000;\n",
       "        }#T_e0ff8_row4_col2{\n",
       "            background-color:  #75b4d8;\n",
       "            color:  #000000;\n",
       "        }#T_e0ff8_row4_col3{\n",
       "            background-color:  #3181bd;\n",
       "            color:  #000000;\n",
       "        }#T_e0ff8_row4_col4,#T_e0ff8_row9_col2{\n",
       "            background-color:  #3b8bc2;\n",
       "            color:  #000000;\n",
       "        }#T_e0ff8_row4_col5{\n",
       "            background-color:  #1865ac;\n",
       "            color:  #f1f1f1;\n",
       "        }#T_e0ff8_row4_col7{\n",
       "            background-color:  #4594c7;\n",
       "            color:  #000000;\n",
       "        }#T_e0ff8_row4_col8{\n",
       "            background-color:  #1764ab;\n",
       "            color:  #f1f1f1;\n",
       "        }#T_e0ff8_row4_col11{\n",
       "            background-color:  #ecf4fb;\n",
       "            color:  #000000;\n",
       "        }#T_e0ff8_row5_col2{\n",
       "            background-color:  #2e7ebc;\n",
       "            color:  #000000;\n",
       "        }#T_e0ff8_row5_col4,#T_e0ff8_row5_col10{\n",
       "            background-color:  #d6e6f4;\n",
       "            color:  #000000;\n",
       "        }#T_e0ff8_row5_col5{\n",
       "            background-color:  #f2f8fd;\n",
       "            color:  #000000;\n",
       "        }#T_e0ff8_row5_col7{\n",
       "            background-color:  #083370;\n",
       "            color:  #f1f1f1;\n",
       "        }#T_e0ff8_row6_col0,#T_e0ff8_row6_col1{\n",
       "            background-color:  #c7dcef;\n",
       "            color:  #000000;\n",
       "        }#T_e0ff8_row6_col2{\n",
       "            background-color:  #125da6;\n",
       "            color:  #f1f1f1;\n",
       "        }#T_e0ff8_row6_col3{\n",
       "            background-color:  #4997c9;\n",
       "            color:  #000000;\n",
       "        }#T_e0ff8_row6_col5{\n",
       "            background-color:  #85bcdc;\n",
       "            color:  #000000;\n",
       "        }#T_e0ff8_row6_col6{\n",
       "            background-color:  #cbdef1;\n",
       "            color:  #000000;\n",
       "        }#T_e0ff8_row6_col7,#T_e0ff8_row9_col5{\n",
       "            background-color:  #125ea6;\n",
       "            color:  #f1f1f1;\n",
       "        }#T_e0ff8_row7_col0,#T_e0ff8_row7_col1{\n",
       "            background-color:  #2070b4;\n",
       "            color:  #f1f1f1;\n",
       "        }#T_e0ff8_row7_col2{\n",
       "            background-color:  #aed1e7;\n",
       "            color:  #000000;\n",
       "        }#T_e0ff8_row7_col3,#T_e0ff8_row8_col0,#T_e0ff8_row8_col1{\n",
       "            background-color:  #08468b;\n",
       "            color:  #f1f1f1;\n",
       "        }#T_e0ff8_row7_col4{\n",
       "            background-color:  #84bcdb;\n",
       "            color:  #000000;\n",
       "        }#T_e0ff8_row7_col6{\n",
       "            background-color:  #105ba4;\n",
       "            color:  #f1f1f1;\n",
       "        }#T_e0ff8_row7_col7{\n",
       "            background-color:  #4090c5;\n",
       "            color:  #000000;\n",
       "        }#T_e0ff8_row8_col2{\n",
       "            background-color:  #a0cbe2;\n",
       "            color:  #000000;\n",
       "        }#T_e0ff8_row8_col3{\n",
       "            background-color:  #5fa6d1;\n",
       "            color:  #000000;\n",
       "        }#T_e0ff8_row8_col4{\n",
       "            background-color:  #3888c1;\n",
       "            color:  #000000;\n",
       "        }#T_e0ff8_row8_col5{\n",
       "            background-color:  #1c6bb0;\n",
       "            color:  #f1f1f1;\n",
       "        }#T_e0ff8_row8_col6{\n",
       "            background-color:  #084082;\n",
       "            color:  #f1f1f1;\n",
       "        }#T_e0ff8_row9_col0,#T_e0ff8_row9_col1{\n",
       "            background-color:  #1663aa;\n",
       "            color:  #f1f1f1;\n",
       "        }#T_e0ff8_row9_col3{\n",
       "            background-color:  #74b3d8;\n",
       "            color:  #000000;\n",
       "        }#T_e0ff8_row9_col4{\n",
       "            background-color:  #08509b;\n",
       "            color:  #f1f1f1;\n",
       "        }#T_e0ff8_row9_col6{\n",
       "            background-color:  #084a91;\n",
       "            color:  #f1f1f1;\n",
       "        }#T_e0ff8_row9_col7{\n",
       "            background-color:  #2b7bba;\n",
       "            color:  #000000;\n",
       "        }#T_e0ff8_row9_col10{\n",
       "            background-color:  #82bbdb;\n",
       "            color:  #000000;\n",
       "        }#T_e0ff8_row9_col11{\n",
       "            background-color:  #2979b9;\n",
       "            color:  #000000;\n",
       "        }</style><table id=\"T_e0ff8_\" ><thead>    <tr>        <th class=\"blank level0\" ></th>        <th class=\"col_heading level0 col0\" >DC_POWER</th>        <th class=\"col_heading level0 col1\" >AC_POWER</th>        <th class=\"col_heading level0 col2\" >DAILY_YIELD</th>        <th class=\"col_heading level0 col3\" >TOTAL_YIELD</th>        <th class=\"col_heading level0 col4\" >AMBIENT_TEMPERATURE</th>        <th class=\"col_heading level0 col5\" >MODULE_TEMPERATURE</th>        <th class=\"col_heading level0 col6\" >IRRADIATION</th>        <th class=\"col_heading level0 col7\" >TIME_IN_SECONDS</th>        <th class=\"col_heading level0 col8\" >WEEK</th>        <th class=\"col_heading level0 col9\" >MONTH</th>        <th class=\"col_heading level0 col10\" >DAY</th>        <th class=\"col_heading level0 col11\" >SOURCE_KEY_NUMBER</th>    </tr></thead><tbody>\n",
       "                <tr>\n",
       "                        <th id=\"T_e0ff8_level0_row0\" class=\"row_heading level0 row0\" >10994</th>\n",
       "                        <td id=\"T_e0ff8_row0_col0\" class=\"data row0 col0\" >10282.875000</td>\n",
       "                        <td id=\"T_e0ff8_row0_col1\" class=\"data row0 col1\" >1005.287500</td>\n",
       "                        <td id=\"T_e0ff8_row0_col2\" class=\"data row0 col2\" >1900.500000</td>\n",
       "                        <td id=\"T_e0ff8_row0_col3\" class=\"data row0 col3\" >7212618.500000</td>\n",
       "                        <td id=\"T_e0ff8_row0_col4\" class=\"data row0 col4\" >28.077588</td>\n",
       "                        <td id=\"T_e0ff8_row0_col5\" class=\"data row0 col5\" >48.340348</td>\n",
       "                        <td id=\"T_e0ff8_row0_col6\" class=\"data row0 col6\" >0.751681</td>\n",
       "                        <td id=\"T_e0ff8_row0_col7\" class=\"data row0 col7\" >36000</td>\n",
       "                        <td id=\"T_e0ff8_row0_col8\" class=\"data row0 col8\" >21</td>\n",
       "                        <td id=\"T_e0ff8_row0_col9\" class=\"data row0 col9\" >5</td>\n",
       "                        <td id=\"T_e0ff8_row0_col10\" class=\"data row0 col10\" >20</td>\n",
       "                        <td id=\"T_e0ff8_row0_col11\" class=\"data row0 col11\" >12</td>\n",
       "            </tr>\n",
       "            <tr>\n",
       "                        <th id=\"T_e0ff8_level0_row1\" class=\"row_heading level0 row1\" >31092</th>\n",
       "                        <td id=\"T_e0ff8_row1_col0\" class=\"data row1 col0\" >0.000000</td>\n",
       "                        <td id=\"T_e0ff8_row1_col1\" class=\"data row1 col1\" >0.000000</td>\n",
       "                        <td id=\"T_e0ff8_row1_col2\" class=\"data row1 col2\" >0.000000</td>\n",
       "                        <td id=\"T_e0ff8_row1_col3\" class=\"data row1 col3\" >6457301.000000</td>\n",
       "                        <td id=\"T_e0ff8_row1_col4\" class=\"data row1 col4\" >23.670286</td>\n",
       "                        <td id=\"T_e0ff8_row1_col5\" class=\"data row1 col5\" >22.421460</td>\n",
       "                        <td id=\"T_e0ff8_row1_col6\" class=\"data row1 col6\" >0.000000</td>\n",
       "                        <td id=\"T_e0ff8_row1_col7\" class=\"data row1 col7\" >2700</td>\n",
       "                        <td id=\"T_e0ff8_row1_col8\" class=\"data row1 col8\" >22</td>\n",
       "                        <td id=\"T_e0ff8_row1_col9\" class=\"data row1 col9\" >5</td>\n",
       "                        <td id=\"T_e0ff8_row1_col10\" class=\"data row1 col10\" >31</td>\n",
       "                        <td id=\"T_e0ff8_row1_col11\" class=\"data row1 col11\" >20</td>\n",
       "            </tr>\n",
       "            <tr>\n",
       "                        <th id=\"T_e0ff8_level0_row2\" class=\"row_heading level0 row2\" >4722</th>\n",
       "                        <td id=\"T_e0ff8_row2_col0\" class=\"data row2 col0\" >5980.142857</td>\n",
       "                        <td id=\"T_e0ff8_row2_col1\" class=\"data row2 col1\" >586.014286</td>\n",
       "                        <td id=\"T_e0ff8_row2_col2\" class=\"data row2 col2\" >1117.714286</td>\n",
       "                        <td id=\"T_e0ff8_row2_col3\" class=\"data row2 col3\" >6353267.714000</td>\n",
       "                        <td id=\"T_e0ff8_row2_col4\" class=\"data row2 col4\" >27.985940</td>\n",
       "                        <td id=\"T_e0ff8_row2_col5\" class=\"data row2 col5\" >45.117410</td>\n",
       "                        <td id=\"T_e0ff8_row2_col6\" class=\"data row2 col6\" >0.441706</td>\n",
       "                        <td id=\"T_e0ff8_row2_col7\" class=\"data row2 col7\" >33300</td>\n",
       "                        <td id=\"T_e0ff8_row2_col8\" class=\"data row2 col8\" >20</td>\n",
       "                        <td id=\"T_e0ff8_row2_col9\" class=\"data row2 col9\" >5</td>\n",
       "                        <td id=\"T_e0ff8_row2_col10\" class=\"data row2 col10\" >17</td>\n",
       "                        <td id=\"T_e0ff8_row2_col11\" class=\"data row2 col11\" >20</td>\n",
       "            </tr>\n",
       "            <tr>\n",
       "                        <th id=\"T_e0ff8_level0_row3\" class=\"row_heading level0 row3\" >20867</th>\n",
       "                        <td id=\"T_e0ff8_row3_col0\" class=\"data row3 col0\" >0.000000</td>\n",
       "                        <td id=\"T_e0ff8_row3_col1\" class=\"data row3 col1\" >0.000000</td>\n",
       "                        <td id=\"T_e0ff8_row3_col2\" class=\"data row3 col2\" >8813.000000</td>\n",
       "                        <td id=\"T_e0ff8_row3_col3\" class=\"data row3 col3\" >7261464.000000</td>\n",
       "                        <td id=\"T_e0ff8_row3_col4\" class=\"data row3 col4\" >26.844663</td>\n",
       "                        <td id=\"T_e0ff8_row3_col5\" class=\"data row3 col5\" >24.812990</td>\n",
       "                        <td id=\"T_e0ff8_row3_col6\" class=\"data row3 col6\" >0.000000</td>\n",
       "                        <td id=\"T_e0ff8_row3_col7\" class=\"data row3 col7\" >68400</td>\n",
       "                        <td id=\"T_e0ff8_row3_col8\" class=\"data row3 col8\" >22</td>\n",
       "                        <td id=\"T_e0ff8_row3_col9\" class=\"data row3 col9\" >5</td>\n",
       "                        <td id=\"T_e0ff8_row3_col10\" class=\"data row3 col10\" >25</td>\n",
       "                        <td id=\"T_e0ff8_row3_col11\" class=\"data row3 col11\" >7</td>\n",
       "            </tr>\n",
       "            <tr>\n",
       "                        <th id=\"T_e0ff8_level0_row4\" class=\"row_heading level0 row4\" >36224</th>\n",
       "                        <td id=\"T_e0ff8_row4_col0\" class=\"data row4 col0\" >13226.125000</td>\n",
       "                        <td id=\"T_e0ff8_row4_col1\" class=\"data row4 col1\" >1289.550000</td>\n",
       "                        <td id=\"T_e0ff8_row4_col2\" class=\"data row4 col2\" >4182.125000</td>\n",
       "                        <td id=\"T_e0ff8_row4_col3\" class=\"data row4 col3\" >7377510.125000</td>\n",
       "                        <td id=\"T_e0ff8_row4_col4\" class=\"data row4 col4\" >29.614476</td>\n",
       "                        <td id=\"T_e0ff8_row4_col5\" class=\"data row4 col5\" >54.576355</td>\n",
       "                        <td id=\"T_e0ff8_row4_col6\" class=\"data row4 col6\" >0.958228</td>\n",
       "                        <td id=\"T_e0ff8_row4_col7\" class=\"data row4 col7\" >43200</td>\n",
       "                        <td id=\"T_e0ff8_row4_col8\" class=\"data row4 col8\" >24</td>\n",
       "                        <td id=\"T_e0ff8_row4_col9\" class=\"data row4 col9\" >6</td>\n",
       "                        <td id=\"T_e0ff8_row4_col10\" class=\"data row4 col10\" >13</td>\n",
       "                        <td id=\"T_e0ff8_row4_col11\" class=\"data row4 col11\" >4</td>\n",
       "            </tr>\n",
       "            <tr>\n",
       "                        <th id=\"T_e0ff8_level0_row5\" class=\"row_heading level0 row5\" >43153</th>\n",
       "                        <td id=\"T_e0ff8_row5_col0\" class=\"data row5 col0\" >0.000000</td>\n",
       "                        <td id=\"T_e0ff8_row5_col1\" class=\"data row5 col1\" >0.000000</td>\n",
       "                        <td id=\"T_e0ff8_row5_col2\" class=\"data row5 col2\" >6166.000000</td>\n",
       "                        <td id=\"T_e0ff8_row5_col3\" class=\"data row5 col3\" >7840965.000000</td>\n",
       "                        <td id=\"T_e0ff8_row5_col4\" class=\"data row5 col4\" >25.180570</td>\n",
       "                        <td id=\"T_e0ff8_row5_col5\" class=\"data row5 col5\" >23.465541</td>\n",
       "                        <td id=\"T_e0ff8_row5_col6\" class=\"data row5 col6\" >0.000056</td>\n",
       "                        <td id=\"T_e0ff8_row5_col7\" class=\"data row5 col7\" >67500</td>\n",
       "                        <td id=\"T_e0ff8_row5_col8\" class=\"data row5 col8\" >25</td>\n",
       "                        <td id=\"T_e0ff8_row5_col9\" class=\"data row5 col9\" >6</td>\n",
       "                        <td id=\"T_e0ff8_row5_col10\" class=\"data row5 col10\" >16</td>\n",
       "                        <td id=\"T_e0ff8_row5_col11\" class=\"data row5 col11\" >3</td>\n",
       "            </tr>\n",
       "            <tr>\n",
       "                        <th id=\"T_e0ff8_level0_row6\" class=\"row_heading level0 row6\" >18521</th>\n",
       "                        <td id=\"T_e0ff8_row6_col0\" class=\"data row6 col0\" >3213.750000</td>\n",
       "                        <td id=\"T_e0ff8_row6_col1\" class=\"data row6 col1\" >315.075000</td>\n",
       "                        <td id=\"T_e0ff8_row6_col2\" class=\"data row6 col2\" >7271.375000</td>\n",
       "                        <td id=\"T_e0ff8_row6_col3\" class=\"data row6 col3\" >7251951.375000</td>\n",
       "                        <td id=\"T_e0ff8_row6_col4\" class=\"data row6 col4\" >32.816960</td>\n",
       "                        <td id=\"T_e0ff8_row6_col5\" class=\"data row6 col5\" >40.095430</td>\n",
       "                        <td id=\"T_e0ff8_row6_col6\" class=\"data row6 col6\" >0.214468</td>\n",
       "                        <td id=\"T_e0ff8_row6_col7\" class=\"data row6 col7\" >56700</td>\n",
       "                        <td id=\"T_e0ff8_row6_col8\" class=\"data row6 col8\" >21</td>\n",
       "                        <td id=\"T_e0ff8_row6_col9\" class=\"data row6 col9\" >5</td>\n",
       "                        <td id=\"T_e0ff8_row6_col10\" class=\"data row6 col10\" >24</td>\n",
       "                        <td id=\"T_e0ff8_row6_col11\" class=\"data row6 col11\" >7</td>\n",
       "            </tr>\n",
       "            <tr>\n",
       "                        <th id=\"T_e0ff8_level0_row7\" class=\"row_heading level0 row7\" >29975</th>\n",
       "                        <td id=\"T_e0ff8_row7_col0\" class=\"data row7 col0\" >9925.142857</td>\n",
       "                        <td id=\"T_e0ff8_row7_col1\" class=\"data row7 col1\" >969.714286</td>\n",
       "                        <td id=\"T_e0ff8_row7_col2\" class=\"data row7 col2\" >2859.285714</td>\n",
       "                        <td id=\"T_e0ff8_row7_col3\" class=\"data row7 col3\" >7717694.286000</td>\n",
       "                        <td id=\"T_e0ff8_row7_col4\" class=\"data row7 col4\" >27.673415</td>\n",
       "                        <td id=\"T_e0ff8_row7_col5\" class=\"data row7 col5\" >62.916433</td>\n",
       "                        <td id=\"T_e0ff8_row7_col6\" class=\"data row7 col6\" >0.799824</td>\n",
       "                        <td id=\"T_e0ff8_row7_col7\" class=\"data row7 col7\" >44100</td>\n",
       "                        <td id=\"T_e0ff8_row7_col8\" class=\"data row7 col8\" >22</td>\n",
       "                        <td id=\"T_e0ff8_row7_col9\" class=\"data row7 col9\" >5</td>\n",
       "                        <td id=\"T_e0ff8_row7_col10\" class=\"data row7 col10\" >30</td>\n",
       "                        <td id=\"T_e0ff8_row7_col11\" class=\"data row7 col11\" >3</td>\n",
       "            </tr>\n",
       "            <tr>\n",
       "                        <th id=\"T_e0ff8_level0_row8\" class=\"row_heading level0 row8\" >11113</th>\n",
       "                        <td id=\"T_e0ff8_row8_col0\" class=\"data row8 col0\" >12123.142860</td>\n",
       "                        <td id=\"T_e0ff8_row8_col1\" class=\"data row8 col1\" >1182.014286</td>\n",
       "                        <td id=\"T_e0ff8_row8_col2\" class=\"data row8 col2\" >3258.571429</td>\n",
       "                        <td id=\"T_e0ff8_row8_col3\" class=\"data row8 col3\" >7151595.571000</td>\n",
       "                        <td id=\"T_e0ff8_row8_col4\" class=\"data row8 col4\" >29.735262</td>\n",
       "                        <td id=\"T_e0ff8_row8_col5\" class=\"data row8 col5\" >53.648472</td>\n",
       "                        <td id=\"T_e0ff8_row8_col6\" class=\"data row8 col6\" >0.900070</td>\n",
       "                        <td id=\"T_e0ff8_row8_col7\" class=\"data row8 col7\" >40500</td>\n",
       "                        <td id=\"T_e0ff8_row8_col8\" class=\"data row8 col8\" >21</td>\n",
       "                        <td id=\"T_e0ff8_row8_col9\" class=\"data row8 col9\" >5</td>\n",
       "                        <td id=\"T_e0ff8_row8_col10\" class=\"data row8 col10\" >20</td>\n",
       "                        <td id=\"T_e0ff8_row8_col11\" class=\"data row8 col11\" >21</td>\n",
       "            </tr>\n",
       "            <tr>\n",
       "                        <th id=\"T_e0ff8_level0_row9\" class=\"row_heading level0 row9\" >12318</th>\n",
       "                        <td id=\"T_e0ff8_row9_col0\" class=\"data row9 col0\" >10599.285710</td>\n",
       "                        <td id=\"T_e0ff8_row9_col1\" class=\"data row9 col1\" >1034.671429</td>\n",
       "                        <td id=\"T_e0ff8_row9_col2\" class=\"data row9 col2\" >5728.285714</td>\n",
       "                        <td id=\"T_e0ff8_row9_col3\" class=\"data row9 col3\" >7063789.286000</td>\n",
       "                        <td id=\"T_e0ff8_row9_col4\" class=\"data row9 col4\" >31.688391</td>\n",
       "                        <td id=\"T_e0ff8_row9_col5\" class=\"data row9 col5\" >55.696511</td>\n",
       "                        <td id=\"T_e0ff8_row9_col6\" class=\"data row9 col6\" >0.861283</td>\n",
       "                        <td id=\"T_e0ff8_row9_col7\" class=\"data row9 col7\" >49500</td>\n",
       "                        <td id=\"T_e0ff8_row9_col8\" class=\"data row9 col8\" >21</td>\n",
       "                        <td id=\"T_e0ff8_row9_col9\" class=\"data row9 col9\" >5</td>\n",
       "                        <td id=\"T_e0ff8_row9_col10\" class=\"data row9 col10\" >21</td>\n",
       "                        <td id=\"T_e0ff8_row9_col11\" class=\"data row9 col11\" >16</td>\n",
       "            </tr>\n",
       "    </tbody></table>"
      ],
      "text/plain": [
       "<pandas.io.formats.style.Styler at 0x240e058f5e0>"
      ]
     },
     "execution_count": 15,
     "metadata": {},
     "output_type": "execute_result"
    }
   ],
   "source": [
    "df_solar_data.sample(10).style.background_gradient(cmap='Blues')"
   ]
  },
  {
   "cell_type": "markdown",
   "metadata": {},
   "source": [
    "### Looking for null and missing values."
   ]
  },
  {
   "cell_type": "code",
   "execution_count": 16,
   "metadata": {},
   "outputs": [
    {
     "data": {
      "text/plain": [
       "DC_POWER               0\n",
       "AC_POWER               0\n",
       "DAILY_YIELD            0\n",
       "TOTAL_YIELD            0\n",
       "AMBIENT_TEMPERATURE    0\n",
       "MODULE_TEMPERATURE     0\n",
       "IRRADIATION            0\n",
       "TIME_IN_SECONDS        0\n",
       "WEEK                   0\n",
       "MONTH                  0\n",
       "DAY                    0\n",
       "SOURCE_KEY_NUMBER      0\n",
       "dtype: int64"
      ]
     },
     "execution_count": 16,
     "metadata": {},
     "output_type": "execute_result"
    }
   ],
   "source": [
    "df_solar_data.isnull().sum()\n"
   ]
  },
  {
   "cell_type": "markdown",
   "metadata": {},
   "source": [
    "### Checking for Duplicate rows/ redundant information"
   ]
  },
  {
   "cell_type": "code",
   "execution_count": 17,
   "metadata": {},
   "outputs": [
    {
     "data": {
      "text/plain": [
       "0"
      ]
     },
     "execution_count": 17,
     "metadata": {},
     "output_type": "execute_result"
    }
   ],
   "source": [
    "#Checking for duplicate rows\n",
    "df_solar_data.duplicated().sum()"
   ]
  },
  {
   "cell_type": "code",
   "execution_count": 18,
   "metadata": {},
   "outputs": [
    {
     "data": {
      "text/plain": [
       "DC_POWER               False\n",
       "AC_POWER               False\n",
       "DAILY_YIELD            False\n",
       "TOTAL_YIELD            False\n",
       "AMBIENT_TEMPERATURE    False\n",
       "MODULE_TEMPERATURE     False\n",
       "IRRADIATION            False\n",
       "TIME_IN_SECONDS        False\n",
       "WEEK                   False\n",
       "MONTH                  False\n",
       "DAY                    False\n",
       "SOURCE_KEY_NUMBER      False\n",
       "dtype: bool"
      ]
     },
     "execution_count": 18,
     "metadata": {},
     "output_type": "execute_result"
    }
   ],
   "source": [
    "#Checking for duplicate columns\n",
    "df_solar_data.T.duplicated()"
   ]
  },
  {
   "cell_type": "markdown",
   "metadata": {},
   "source": [
    "# Feature Matrix"
   ]
  },
  {
   "cell_type": "code",
   "execution_count": 19,
   "metadata": {},
   "outputs": [],
   "source": [
    "X = df_solar_data.drop(columns = ['AC_POWER'])\n",
    "y = df_solar_data['AC_POWER']"
   ]
  },
  {
   "cell_type": "code",
   "execution_count": 20,
   "metadata": {},
   "outputs": [
    {
     "name": "stdout",
     "output_type": "stream",
     "text": [
      "<class 'pandas.core.frame.DataFrame'>\n",
      "Int64Index: 45680 entries, 0 to 45679\n",
      "Data columns (total 11 columns):\n",
      " #   Column               Non-Null Count  Dtype  \n",
      "---  ------               --------------  -----  \n",
      " 0   DC_POWER             45680 non-null  float64\n",
      " 1   DAILY_YIELD          45680 non-null  float64\n",
      " 2   TOTAL_YIELD          45680 non-null  float64\n",
      " 3   AMBIENT_TEMPERATURE  45680 non-null  float64\n",
      " 4   MODULE_TEMPERATURE   45680 non-null  float64\n",
      " 5   IRRADIATION          45680 non-null  float64\n",
      " 6   TIME_IN_SECONDS      45680 non-null  int64  \n",
      " 7   WEEK                 45680 non-null  UInt32 \n",
      " 8   MONTH                45680 non-null  int64  \n",
      " 9   DAY                  45680 non-null  int64  \n",
      " 10  SOURCE_KEY_NUMBER    45680 non-null  int32  \n",
      "dtypes: UInt32(1), float64(6), int32(1), int64(3)\n",
      "memory usage: 4.9 MB\n"
     ]
    }
   ],
   "source": [
    "X.info()"
   ]
  },
  {
   "cell_type": "code",
   "execution_count": 21,
   "metadata": {},
   "outputs": [
    {
     "data": {
      "image/png": "[encoded data removed]",
      "text/plain": [
       "<Figure size 720x720 with 2 Axes>"
      ]
     },
     "metadata": {
      "needs_background": "light"
     },
     "output_type": "display_data"
    }
   ],
   "source": [
    "corr_df = X.corr()\n",
    "\n",
    "plt.figure(figsize=(10, 10))\n",
    "sns.heatmap(corr_df, cbar=True, square=True, annot=True, cmap=\"Blues\")\n",
    "plt.title('Feature Correlation Heatmap')\n",
    "plt.show()"
   ]
  },
  {
   "cell_type": "markdown",
   "metadata": {},
   "source": [
    "#### Collinearity & Multicollinearity\n",
    "\n",
    "\n",
    "**What is it?**\n",
    "\n",
    "- **Collinearity** refers to the situation when two independent variables are correlated with one another.\n",
    "- **Multicollinearity** is the situation where one independent variable can be expressed as a linear combination of two or more other independent variables (in other words, the independent variables are in a linear relationship with *each other*).\n",
    "\n",
    "**What does it do to our models?**\n",
    "\n",
    "- When two or more predictor variables in a regression model are highly correlated, meaning that they contain similar information about the variance of the dependent variable. This can affect the performance and interpretation of various machine learning models. \n"
   ]
  },
  {
   "cell_type": "markdown",
   "metadata": {},
   "source": [
    "Looking at correlation values greater than 0.7:\n",
    "\n",
    "* DC_Power is highly correlated with Module_Temperature, solution is to drop one of these variable eg: DC_Power\n",
    "* DC_Power is also highly correlated with Irradiation, if DC_Power is drop that should resolve this.\n",
    "* Daily_Yield is highly correlated with Time_In_Seconds, so Time_In_Seconds will be dropped.\n",
    "* Ambient_Temperature is highly correlated with Module_Temperature, so Module_Temperature will be dropped.\n",
    "* Module_Temperature is highly correlated with Irradiation, dropping Module_Temperature will be dropped.\n",
    "* Week is highly correlated with Month, so Week will be dropped."
   ]
  },
  {
   "cell_type": "code",
   "execution_count": 22,
   "metadata": {},
   "outputs": [],
   "source": [
    "X.drop(columns = ['DC_POWER','TIME_IN_SECONDS','MODULE_TEMPERATURE','WEEK'], inplace=True)"
   ]
  },
  {
   "cell_type": "code",
   "execution_count": 23,
   "metadata": {},
   "outputs": [
    {
     "data": {
      "image/png": "[encoded data removed]",
      "text/plain": [
       "<Figure size 720x720 with 2 Axes>"
      ]
     },
     "metadata": {
      "needs_background": "light"
     },
     "output_type": "display_data"
    }
   ],
   "source": [
    "corr_df = X.corr()\n",
    "\n",
    "plt.figure(figsize=(10, 10))\n",
    "sns.heatmap(corr_df, cbar=True, square=True, annot=True, cmap=\"Blues\")\n",
    "plt.title('Feature Correlation Heatmap')\n",
    "plt.show()"
   ]
  },
  {
   "cell_type": "markdown",
   "metadata": {},
   "source": [
    "From the above plot, multicollinearity is solved."
   ]
  },
  {
   "cell_type": "markdown",
   "metadata": {},
   "source": [
    "Separating dataset into testing and training dataset"
   ]
  },
  {
   "cell_type": "code",
   "execution_count": 24,
   "metadata": {},
   "outputs": [
    {
     "data": {
      "text/plain": [
       "((9136, 7), (36544, 7))"
      ]
     },
     "execution_count": 24,
     "metadata": {},
     "output_type": "execute_result"
    }
   ],
   "source": [
    "from sklearn.model_selection import train_test_split\n",
    "\n",
    "X_train, X_test, y_train, y_test = train_test_split(X, y, test_size=0.2, random_state=42)\n",
    "X_test.shape, X_train.shape"
   ]
  },
  {
   "cell_type": "markdown",
   "metadata": {},
   "source": [
    "### Solar Prediction"
   ]
  },
  {
   "cell_type": "markdown",
   "metadata": {},
   "source": [
    "LINEAR REGRESSION"
   ]
  },
  {
   "cell_type": "code",
   "execution_count": 25,
   "metadata": {},
   "outputs": [
    {
     "name": "stdout",
     "output_type": "stream",
     "text": [
      "Linear Regression Model score = 98.3802%\n"
     ]
    }
   ],
   "source": [
    "from sklearn.linear_model import LinearRegression\n",
    "from sklearn.metrics import r2_score\n",
    "\n",
    "\n",
    "# Instantiate the model\n",
    "linear_regression_model = LinearRegression()\n",
    "\n",
    "# Fit the model\n",
    "linear_regression_model.fit(X_train, y_train)\n",
    "\n",
    "# Model Prediction\n",
    "y_pred = linear_regression_model.predict(X_test)\n",
    "\n",
    "# Compute the R^2 score\n",
    "r2 = 100*r2_score(y_test, y_pred)\n",
    "print(f'Linear Regression Model score = {r2:4.4f}%')"
   ]
  },
  {
   "cell_type": "markdown",
   "metadata": {},
   "source": [
    "Random forests"
   ]
  },
  {
   "cell_type": "code",
   "execution_count": 26,
   "metadata": {},
   "outputs": [
    {
     "name": "stdout",
     "output_type": "stream",
     "text": [
      "R^2 scores: [0.98519057 0.98587505 0.98534914 0.98530637 0.98679115]\n",
      "Average R^2: 0.9857\n"
     ]
    }
   ],
   "source": [
    "from sklearn.ensemble import RandomForestRegressor\n",
    "from sklearn.model_selection import cross_val_score\n",
    "from sklearn.metrics import make_scorer, mean_squared_error, r2_score\n",
    "\n",
    "\n",
    "# Initialize the Random Forest Regressor\n",
    "model_RF = RandomForestRegressor(\n",
    "    n_estimators=200,         # Increase number of trees\n",
    "    max_depth=10,             # Limit the depth of the trees\n",
    "    min_samples_split=20,     # Increase min samples required to split an internal node\n",
    "    min_samples_leaf=20,      # Increase min samples required to be at a leaf node\n",
    "    max_features='sqrt',      # Reduce the number of features to consider at each split\n",
    "    random_state=42\n",
    ")\n",
    "\n",
    "# Fit the model to the training data\n",
    "model_RF.fit(X_train, y_train)\n",
    "\n",
    "# Perform cross-validation\n",
    "cv_scores = cross_val_score(model_RF, X_train, y_train, cv=5, scoring='r2')\n",
    "\n",
    "# Output the cross-validation scores\n",
    "print(f'R^2 scores: {cv_scores}')\n",
    "print(f'Average R^2: {cv_scores.mean():.4f}')\n"
   ]
  },
  {
   "cell_type": "code",
   "execution_count": 27,
   "metadata": {},
   "outputs": [
    {
     "name": "stdout",
     "output_type": "stream",
     "text": [
      "R^2 score on the test set: 0.9868\n"
     ]
    }
   ],
   "source": [
    "# Make predictions on the test set\n",
    "y_pred = model_RF.predict(X_test)\n",
    "\n",
    "# Evaluate the model's performance on the test set\n",
    "r2 = r2_score(y_test, y_pred)\n",
    "\n",
    "print(f'R^2 score on the test set: {r2:.4f}')"
   ]
  },
  {
   "cell_type": "code",
   "execution_count": null,
   "metadata": {},
   "outputs": [],
   "source": []
  }
 ],
 "metadata": {
  "kernelspec": {
   "display_name": "Python 3",
   "language": "python",
   "name": "python3"
  },
  "language_info": {
   "codemirror_mode": {
    "name": "ipython",
    "version": 3
   },
   "file_extension": ".py",
   "mimetype": "text/x-python",
   "name": "python",
   "nbconvert_exporter": "python",
   "pygments_lexer": "ipython3",
   "version": "3.8.8"
  }
 },
 "nbformat": 4,
 "nbformat_minor": 2
}
